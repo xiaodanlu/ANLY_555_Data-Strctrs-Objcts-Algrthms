{
 "cells": [
  {
   "attachments": {},
   "cell_type": "markdown",
   "metadata": {},
   "source": [
    "**Question 1**"
   ]
  },
  {
   "cell_type": "code",
   "execution_count": 6,
   "metadata": {},
   "outputs": [
    {
     "name": "stdout",
     "output_type": "stream",
     "text": [
      "Pi/4: 0.7238095238095239\n"
     ]
    }
   ],
   "source": [
    "def computePi4(numTerms):\n",
    "    Pi4 = 0\n",
    "    x = True\n",
    "    for i in range(1,numTerms*2,2):\n",
    "        if x == True:\n",
    "            Pi4 += 1/i\n",
    "            x = False\n",
    "        else:\n",
    "            Pi4 -= 1/i\n",
    "            x = True\n",
    "    return Pi4\n",
    "print(\"Pi/4:\", computePi4(4))"
   ]
  },
  {
   "attachments": {},
   "cell_type": "markdown",
   "metadata": {},
   "source": [
    "**Question 2**"
   ]
  },
  {
   "cell_type": "code",
   "execution_count": 7,
   "metadata": {},
   "outputs": [
    {
     "name": "stdout",
     "output_type": "stream",
     "text": [
      "Pi/4: 0.7238095238095239\n"
     ]
    }
   ],
   "source": [
    "def computePi4_comprehension(numTerms):\n",
    "    terms = [1/(i*2+1) if i % 2 ==0 else -1/(i*2+1) for i in range(numTerms)]\n",
    "    Pi4 = sum(terms)\n",
    "    return Pi4\n",
    "print(\"Pi/4:\", computePi4_comprehension(4))"
   ]
  },
  {
   "attachments": {},
   "cell_type": "markdown",
   "metadata": {},
   "source": [
    "**Question 3**"
   ]
  },
  {
   "cell_type": "code",
   "execution_count": 10,
   "metadata": {},
   "outputs": [
    {
     "name": "stdout",
     "output_type": "stream",
     "text": [
      "1.0\n",
      "-0.3333333333333333\n",
      "0.2\n",
      "-0.14285714285714285\n",
      "Pi/4: 0.7238095238095239\n"
     ]
    }
   ],
   "source": [
    "def computePi4_yield(numTerms):\n",
    "    x = True\n",
    "    for i in range(1,numTerms*2,2):\n",
    "        if x == True:\n",
    "            x = False\n",
    "            yield 1/i\n",
    "            \n",
    "        else:\n",
    "            x = True\n",
    "            yield -1/i\n",
    "Pi4=0\n",
    "for i in computePi4_yield(4):\n",
    "    print(i)\n",
    "    Pi4 += i\n",
    "print(\"Pi/4:\", Pi4)"
   ]
  }
 ],
 "metadata": {
  "kernelspec": {
   "display_name": "Python 3",
   "language": "python",
   "name": "python3"
  },
  "language_info": {
   "codemirror_mode": {
    "name": "ipython",
    "version": 3
   },
   "file_extension": ".py",
   "mimetype": "text/x-python",
   "name": "python",
   "nbconvert_exporter": "python",
   "pygments_lexer": "ipython3",
   "version": "3.11.1"
  },
  "orig_nbformat": 4,
  "vscode": {
   "interpreter": {
    "hash": "5c7b89af1651d0b8571dde13640ecdccf7d5a6204171d6ab33e7c296e100e08a"
   }
  }
 },
 "nbformat": 4,
 "nbformat_minor": 2
}
