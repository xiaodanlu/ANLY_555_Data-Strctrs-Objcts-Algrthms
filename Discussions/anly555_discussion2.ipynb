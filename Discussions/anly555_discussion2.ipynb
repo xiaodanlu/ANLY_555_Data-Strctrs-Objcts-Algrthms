{
  "cells": [
    {
      "cell_type": "code",
      "execution_count": 1,
      "metadata": {
        "id": "y_4nWzQHkBNS"
      },
      "outputs": [],
      "source": [
        "class Matrix: #create a class called matrix\n",
        "  def __init__(self, mat, m, n):\n",
        "    self.mat = mat\n",
        "    self.m = m\n",
        "    self.n = n\n",
        "\n",
        "  def __add__(self, other):\n",
        "    \"\"\"Return sum of two matirx.\"\"\"\n",
        "    if self.m != other.m or self.n != other.n:\n",
        "      raise Exception(\"Size Mismatch\")\n",
        "    \n",
        "    output = [[0 for _ in range(self.n)] for _ in range(self.m)] # create a new matrix with all 0\n",
        "    \n",
        "    for i in range(self.m):                    # calculate the addition of two matrix\n",
        "      for j in range(self.n):\n",
        "        output[i][j] = self.mat[i][j] + other.mat[i][j]  \n",
        "   \n",
        "    return output               #return an output\n",
        "\n",
        "  def __mul__(self, other):\n",
        "    \"\"\"Return inner product of two matirx.\"\"\"\n",
        "    if self.n != other.m:\n",
        "      raise Exception(\"Size Mismatch\")\n",
        "   \n",
        "    output = [[0 for _ in range(other.n)] for _ in range(self.m)]   # create a new matrix with all 0\n",
        "    \n",
        "    for i in range(self.m):          # calculate the inner product of two matrix\n",
        "      for j in range(other.n):\n",
        "        total = 0\n",
        "\n",
        "        for k in range(self.n):\n",
        "          total += self.mat[i][k] * other.mat[k][j]\n",
        "\n",
        "        output[i][j] = total\n",
        "    \n",
        "    return output  #return an output"
      ]
    },
    {
      "cell_type": "code",
      "execution_count": 2,
      "metadata": {
        "colab": {
          "base_uri": "https://localhost:8080/"
        },
        "id": "ohfJ8jWWl8-4",
        "outputId": "0e787bb2-6ede-4b5c-ea83-f073521eaf8d"
      },
      "outputs": [
        {
          "name": "stdout",
          "output_type": "stream",
          "text": [
            "[[4, 4, 7], [10, 11, 7]]\n",
            "[[37, 32], [32, 43]]\n"
          ]
        }
      ],
      "source": [
        "if __name__ == '__main__':\n",
        "    a = Matrix([[1, 3, 5], [2, 6, 3]], 2, 3)\n",
        "    b = Matrix([[3, 1, 2], [8, 5, 4]], 2, 3)\n",
        "    c = Matrix([[1, 5], [2, 4], [6, 3]], 3, 2)\n",
        "\n",
        "    print(a + b) #addition\n",
        "    print(a * c) #inner product"
      ]
    },
    {
      "cell_type": "code",
      "execution_count": 3,
      "metadata": {
        "id": "b3-z8VypmQ6X"
      },
      "outputs": [],
      "source": [
        "class Vector(Matrix): #call the matrix class\n",
        "  def __init__(self, vec, m, n):\n",
        "    super().__init__(vec, m, n)\n",
        "\n",
        "  def __matmul__(self, other):\n",
        "    \"\"\"Return outer product of two matirx.\"\"\"\n",
        "    if self.n != other.n:\n",
        "      raise Exception(\"Size Mismatch\")\n",
        "    \n",
        "    output = [[0 for _ in range(other.m)] for _ in range(self.m)]      # create a new matrix with all zeros\n",
        "    \n",
        "    for i in range(self.m):           # calculate the outer product of two matrix\n",
        "      for j in range(other.m):\n",
        "        output[i][j] = self.mat[i] * other.mat[j]\n",
        "    \n",
        "    return output           #return an output"
      ]
    },
    {
      "cell_type": "code",
      "execution_count": 4,
      "metadata": {
        "colab": {
          "base_uri": "https://localhost:8080/"
        },
        "id": "8WwRvqZPstpb",
        "outputId": "cd226b24-07ee-492e-e3ff-0c5c2ea7ffc5"
      },
      "outputs": [
        {
          "name": "stdout",
          "output_type": "stream",
          "text": [
            "[[6, 10, 12], [12, 20, 24]]\n"
          ]
        }
      ],
      "source": [
        "if __name__ == '__main__':\n",
        "    x = Vector([2, 4], 2, 1)\n",
        "    y = Vector([3, 5, 6], 3, 1)\n",
        "    print(x @ y) #outer product"
      ]
    }
  ],
  "metadata": {
    "colab": {
      "provenance": []
    },
    "kernelspec": {
      "display_name": "anly",
      "language": "python",
      "name": "python3"
    },
    "language_info": {
      "codemirror_mode": {
        "name": "ipython",
        "version": 3
      },
      "file_extension": ".py",
      "mimetype": "text/x-python",
      "name": "python",
      "nbconvert_exporter": "python",
      "pygments_lexer": "ipython3",
      "version": "3.9.13"
    },
    "vscode": {
      "interpreter": {
        "hash": "54b1e88fe132c7adefb764b3f7d996ece51e91de5d6fc554b0f93e12660317d7"
      }
    }
  },
  "nbformat": 4,
  "nbformat_minor": 0
}
